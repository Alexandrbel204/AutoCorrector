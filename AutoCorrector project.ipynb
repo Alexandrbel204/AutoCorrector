{
 "cells": [
  {
   "cell_type": "code",
   "execution_count": 19,
   "id": "9e56feff-5f65-4ad5-99fd-4ff9ff1caa03",
   "metadata": {},
   "outputs": [],
   "source": [
    "import re\n",
    "import math\n",
    "import string\n",
    "from collections import Counter\n",
    "import requests\n",
    "import random\n",
    "import matplotlib.pyplot as plt\n"
   ]
  },
  {
   "cell_type": "code",
   "execution_count": 11,
   "id": "6988c1cc-6dff-4ee3-82f6-047d7c61a85d",
   "metadata": {},
   "outputs": [
    {
     "data": {
      "text/plain": [
       "6488666"
      ]
     },
     "execution_count": 11,
     "metadata": {},
     "output_type": "execute_result"
    }
   ],
   "source": [
    "# parsing the data\n",
    "TEXT = requests.get('https://norvig.com/big.txt').text\n",
    "len(TEXT)"
   ]
  },
  {
   "cell_type": "code",
   "execution_count": 3,
   "id": "a874127b-ef63-44e4-968a-43ab3a5605bd",
   "metadata": {},
   "outputs": [],
   "source": [
    "#The text is huge - over 6 million characters.\n",
    "#Now I need to break the text into words (or, to be a bit more formal, tokens). \n",
    "# For now, I won't think much about the fact that the text contains punctuation, numbers and other symbols\n",
    "def tokens(text):\n",
    "    \"\"\"Returns a list of tokens (consecutive letter sequences) in the text. \n",
    "       The text is converted to lower case.\"\"\"\n",
    "    return re.findall(r'[a-z]+', text.lower()) "
   ]
  },
  {
   "cell_type": "code",
   "execution_count": 4,
   "id": "b439126d-d91f-4f7a-84af-f5a7cb2894c9",
   "metadata": {},
   "outputs": [
    {
     "data": {
      "text/plain": [
       "['this', 'is', 'a', 'test', 'this', 'is']"
      ]
     },
     "execution_count": 4,
     "metadata": {},
     "output_type": "execute_result"
    }
   ],
   "source": [
    "tokens('This is: A test, 1, 2, 3, this is.')"
   ]
  },
  {
   "cell_type": "code",
   "execution_count": 5,
   "id": "ad7ab707-91a6-4964-8a55-8bf67cba547f",
   "metadata": {},
   "outputs": [
    {
     "data": {
      "text/plain": [
       "1105285"
      ]
     },
     "execution_count": 5,
     "metadata": {},
     "output_type": "execute_result"
    }
   ],
   "source": [
    "WORDS = tokens(TEXT)\n",
    "len(WORDS)"
   ]
  },
  {
   "cell_type": "code",
   "execution_count": 12,
   "id": "f10af673-1684-4254-afa0-d66d422d19b9",
   "metadata": {},
   "outputs": [
    {
     "name": "stdout",
     "output_type": "stream",
     "text": [
      "['the', 'project', 'gutenberg', 'ebook', 'of', 'the', 'adventures', 'of', 'sherlock', 'holmes']\n"
     ]
    }
   ],
   "source": [
    "# here are a million different words left.  Here are the first 10:\n",
    "print(WORDS[:10])"
   ]
  },
  {
   "cell_type": "code",
   "execution_count": 14,
   "id": "13287b53-6617-4a9f-bb62-a2ed3e0ef9a6",
   "metadata": {},
   "outputs": [],
   "source": [
    "#We can use this list as a generative model of the text.\n",
    "#In the bag-of-words model, we completely ignore the order of words, but observe their frequency. \n",
    "#Almost certainly the resulting sentence will be grammatically incorrect, but the words in that sentence will be in the approximatly  correct proportion \n",
    "#(more frequent ones will occur more often, rarer ones less often). \n",
    "def sample(bag, n=10):\n",
    "    \"Sample a random n-word sentence from the model described by the bag of words.\"\n",
    "    return ' '.join(random.choice(bag) for _ in range(n))"
   ]
  },
  {
   "cell_type": "code",
   "execution_count": 10,
   "id": "11523961-134c-44af-98e0-d67409a6b9c4",
   "metadata": {},
   "outputs": [
    {
     "data": {
      "text/plain": [
       "'town next federation gossip there room upper example idol it'"
      ]
     },
     "execution_count": 10,
     "metadata": {},
     "output_type": "execute_result"
    }
   ],
   "source": [
    "sample(WORDS)"
   ]
  },
  {
   "cell_type": "code",
   "execution_count": 15,
   "id": "f4b0199a-b45e-41da-8875-e2509864b013",
   "metadata": {},
   "outputs": [
    {
     "data": {
      "text/plain": [
       "Counter({'is': 2, 'a': 2, 'test': 2, 'this': 1, 'it': 1})"
      ]
     },
     "execution_count": 15,
     "metadata": {},
     "output_type": "execute_result"
    }
   ],
   "source": [
    "#Another representation of a bag of words is Counter. It is a dictionary consisting of pairs {'word': number of occurrences of the word in the text}. \n",
    "Counter(tokens('Is this a test? It is a test!'))"
   ]
  },
  {
   "cell_type": "code",
   "execution_count": 16,
   "id": "2fb5dd43-e8cf-4aeb-800e-eb83b69d3253",
   "metadata": {},
   "outputs": [
    {
     "name": "stdout",
     "output_type": "stream",
     "text": [
      "[('the', 80030), ('of', 40025), ('and', 38313), ('to', 28766), ('in', 22050), ('a', 21155), ('that', 12512), ('he', 12401), ('was', 11410), ('it', 10681)]\n"
     ]
    }
   ],
   "source": [
    "COUNTS = Counter(WORDS)\n",
    "\n",
    "print(COUNTS.most_common(10))"
   ]
  },
  {
   "cell_type": "code",
   "execution_count": 17,
   "id": "739b8214-b3bd-4bc8-bdc7-3012a90de20e",
   "metadata": {},
   "outputs": [
    {
     "name": "stdout",
     "output_type": "stream",
     "text": [
      "80030 the\n",
      "83 rare\n",
      "38313 and\n",
      "0 neverbeforeseen\n",
      "460 words\n"
     ]
    }
   ],
   "source": [
    "for w in tokens('the rare and neverbeforeseen words'):\n",
    "    print(COUNTS[w], w)"
   ]
  },
  {
   "cell_type": "code",
   "execution_count": 24,
   "id": "977abb1f-f967-4408-9ec3-39308ef65bbc",
   "metadata": {},
   "outputs": [],
   "source": [
    "#In 1935, linguist George Zipf observed that the most frequent word in a text appears with a frequency inverse to its ordinal number. \n",
    "#This observation, known as Zipf's Law, was made earlier by Felix Auerbach in 1913. \n",
    "#If we plot the frequencies of words on a logarithmic scale, they should approximate a straight line, confirming this law."
   ]
  },
  {
   "cell_type": "code",
   "execution_count": 23,
   "id": "675a28cf-98d4-44c5-a768-1e003351c80c",
   "metadata": {},
   "outputs": [
    {
     "data": {
      "image/png": "[encoded data removed]",
      "text/plain": [
       "<Figure size 640x480 with 1 Axes>"
      ]
     },
     "metadata": {},
     "output_type": "display_data"
    }
   ],
   "source": [
    "M = COUNTS['the']\n",
    "plt.yscale('log')\n",
    "plt.xscale('log')\n",
    "plt.title('Frequency of the n-th most frequent word and the line 1/n.')\n",
    "plt.plot([c for (w, c) in COUNTS.most_common()])\n",
    "plt.plot([M/i for i in range(1, len(COUNTS)+1)])\n",
    "plt.show()"
   ]
  },
  {
   "cell_type": "code",
   "execution_count": 25,
   "id": "b482d77b-7200-4e67-b101-8bc929718236",
   "metadata": {},
   "outputs": [],
   "source": [
    "#Let's take a naive approach: we will always take the closest word, if the proximity check is not enough, \n",
    "#we will take the word with the maximum frequency from WORDS. Now we will measure proximity using the Levenshtein distance: \n",
    "#the minimum number of deletions, permutations, insertions, and character substitutions required to turn one word into another word"
   ]
  },
  {
   "cell_type": "code",
   "execution_count": 26,
   "id": "f3b65c35-299f-4ac1-9997-cd2dddd82452",
   "metadata": {},
   "outputs": [],
   "source": [
    "def correct(word):\n",
    "    \"Finding the best error correction for a given word.\"\n",
    "    # pre-calculate edit_distance==0, then 1, then 2; otherwise leave the word as is.\n",
    "    candidates = (known(edits0(word)) or \n",
    "                  known(edits1(word)) or \n",
    "                  known(edits2(word)) or \n",
    "                  [word])\n",
    "    return max(candidates, key=COUNTS.get)"
   ]
  },
  {
   "cell_type": "code",
   "execution_count": 27,
   "id": "29a2f408-bb43-469d-8902-2777368dc7fb",
   "metadata": {},
   "outputs": [],
   "source": [
    "def known(words):\n",
    "    \"Return a subset of the words we have in our dictionary.\"\n",
    "    return {w for w in words if w in COUNTS}\n",
    "\n",
    "def edits0(word): \n",
    "    \"Return all strings that are at edit_distance == 0 from word (i.e., just the word itself).\"\n",
    "    return {word}\n",
    "\n",
    "def edits2(word):\n",
    "    \"Return all rows that are at edit_distance == 2 from word.\"\n",
    "    return {e2 for e1 in edits1(word) for e2 in edits1(e1)}"
   ]
  },
  {
   "cell_type": "code",
   "execution_count": 28,
   "id": "4e05bfa6-a879-42dd-9604-10cef672faf0",
   "metadata": {},
   "outputs": [],
   "source": [
    "def edits1(word):\n",
    "    \"Returns a list of all rows at edit_distance == 1 from word.\"\n",
    "    pairs      = splits(word)\n",
    "    deletes    = [a+b[1:]           for (a, b) in pairs if b]\n",
    "    transposes = [a+b[1]+b[0]+b[2:] for (a, b) in pairs if len(b) > 1]\n",
    "    replaces   = [a+c+b[1:]         for (a, b) in pairs for c in alphabet if b]\n",
    "    inserts    = [a+c+b             for (a, b) in pairs for c in alphabet]\n",
    "    return set(deletes + transposes + replaces + inserts)\n",
    "\n",
    "def splits(word):\n",
    "    \"Returns a list of all possible splits of a word into a pair (a, b).\"\n",
    "    return [(word[:i], word[i:]) \n",
    "            for i in range(len(word)+1)]\n",
    "\n",
    "alphabet = 'abcdefghijklmnopqrstuvwxyz'"
   ]
  },
  {
   "cell_type": "code",
   "execution_count": 29,
   "id": "5f7f1ca7-fa39-4c2b-a727-2783bc993822",
   "metadata": {},
   "outputs": [
    {
     "data": {
      "text/plain": [
       "[('', 'wird'), ('w', 'ird'), ('wi', 'rd'), ('wir', 'd'), ('wird', '')]"
      ]
     },
     "execution_count": 29,
     "metadata": {},
     "output_type": "execute_result"
    }
   ],
   "source": [
    "splits('wird')"
   ]
  },
  {
   "cell_type": "code",
   "execution_count": 30,
   "id": "42eef888-d34e-4c9f-86d0-7cc84355443f",
   "metadata": {},
   "outputs": [
    {
     "data": {
      "text/plain": [
       "26"
      ]
     },
     "execution_count": 30,
     "metadata": {},
     "output_type": "execute_result"
    }
   ],
   "source": [
    "len(alphabet)"
   ]
  },
  {
   "cell_type": "code",
   "execution_count": 31,
   "id": "62dbfb46-fa9e-4be3-b988-2432948f0975",
   "metadata": {},
   "outputs": [
    {
     "name": "stdout",
     "output_type": "stream",
     "text": [
      "{'wird'}\n"
     ]
    }
   ],
   "source": [
    "print(edits0('wird'))"
   ]
  },
  {
   "cell_type": "code",
   "execution_count": 32,
   "id": "fd1f50b9-da33-43e2-91a3-6abcee3e62c0",
   "metadata": {},
   "outputs": [
    {
     "name": "stdout",
     "output_type": "stream",
     "text": [
      "{'wiurd', 'tird', 'wfird', 'wirdx', 'wired', 'wurd', 'gird', 'nwird', 'wvird', 'wifrd', 'wirxd', 'wiyd', 'wisd', 'wirdh', 'wirm', 'wikrd', 'wirjd', 'bird', 'wirt', 'wpird', 'wirid', 'wied', 'awird', 'iwird', 'wxird', 'jwird', 'wihrd', 'xird', 'wirzd', 'mird', 'qird', 'wirh', 'wbird', 'wirg', 'wirj', 'wirdw', 'wikd', 'wijrd', 'wiird', 'wcrd', 'wirdc', 'wirbd', 'widd', 'wwird', 'wgird', 'wirnd', 'wirdj', 'wijd', 'wirdo', 'wihd', 'wrird', 'bwird', 'wirdm', 'wirdt', 'wjird', 'twird', 'wsird', 'zwird', 'wicd', 'wimrd', 'wirwd', 'wprd', 'wirk', 'wmrd', 'swird', 'wixrd', 'wvrd', 'wsrd', 'wiqd', 'wirld', 'cird', 'wirkd', 'wrid', 'wir', 'fwird', 'wnird', 'yird', 'wqrd', 'wirdf', 'wirdp', 'hwird', 'widr', 'nird', 'iwrd', 'werd', 'wiro', 'waird', 'wirrd', 'wirdr', 'witd', 'pwird', 'wiru', 'wiod', 'wiid', 'wiad', 'wiwd', 'wirx', 'wigrd', 'wirdi', 'lird', 'wiyrd', 'wid', 'wirw', 'wirdg', 'wirz', 'wirgd', 'wirr', 'word', 'wild', 'wirc', 'wirde', 'wirdn', 'wilrd', 'oird', 'uird', 'wirl', 'wirq', 'wibrd', 'wirdk', 'wiud', 'whird', 'wizd', 'cwird', 'wire', 'kird', 'wirad', 'wiwrd', 'wirsd', 'wira', 'wicrd', 'wirdu', 'ewird', 'wirf', 'wdird', 'wimd', 'hird', 'wrrd', 'xwird', 'wirds', 'wirs', 'wiprd', 'wirhd', 'kwird', 'wirdd', 'wirv', 'wiard', 'wirb', 'wirdq', 'wirda', 'rird', 'wlrd', 'wirn', 'wqird', 'wisrd', 'wierd', 'wirdl', 'eird', 'wnrd', 'wiqrd', 'wyird', 'dird', 'wrd', 'wdrd', 'wird', 'wuird', 'wxrd', 'iird', 'wirtd', 'pird', 'qwird', 'ird', 'rwird', 'ywird', 'jird', 'wyrd', 'dwird', 'wmird', 'wirdy', 'wigd', 'mwird', 'uwird', 'sird', 'vwird', 'wwrd', 'wifd', 'vird', 'wixd', 'wirqd', 'wircd', 'wipd', 'fird', 'wzrd', 'weird', 'wivrd', 'wiry', 'wirfd', 'aird', 'wiryd', 'gwird', 'woird', 'wirp', 'ward', 'wcird', 'wirdb', 'wtird', 'zird', 'wbrd', 'wind', 'witrd', 'wlird', 'wizrd', 'wirod', 'wgrd', 'wirmd', 'wirdv', 'owird', 'wiri', 'widrd', 'wirdz', 'wibd', 'wtrd', 'wzird', 'wkrd', 'lwird', 'wkird', 'wirpd', 'wfrd', 'wivd', 'wirvd', 'whrd', 'winrd', 'wiord', 'wjrd', 'wirud'}\n"
     ]
    }
   ],
   "source": [
    "print(edits1('wird'))"
   ]
  },
  {
   "cell_type": "code",
   "execution_count": 33,
   "id": "be314f87-3432-4d0d-9853-fe92f09d825f",
   "metadata": {},
   "outputs": [
    {
     "name": "stdout",
     "output_type": "stream",
     "text": [
      "24254\n"
     ]
    }
   ],
   "source": [
    "print(len(edits2('wird')))"
   ]
  },
  {
   "cell_type": "code",
   "execution_count": 34,
   "id": "9718cb07-3acd-4057-a631-7447b540d5bf",
   "metadata": {},
   "outputs": [
    {
     "data": {
      "text/plain": [
       "['speling',\n",
       " 'errurs',\n",
       " 'in',\n",
       " 'somethink',\n",
       " 'whutever',\n",
       " 'unusuel',\n",
       " 'misteakes',\n",
       " 'everyware']"
      ]
     },
     "execution_count": 34,
     "metadata": {},
     "output_type": "execute_result"
    }
   ],
   "source": [
    "tokens('Speling errurs in somethink. Whutever; unusuel misteakes everyware?')"
   ]
  },
  {
   "cell_type": "code",
   "execution_count": 35,
   "id": "1770f17d-7bac-460c-a649-95afe7126105",
   "metadata": {},
   "outputs": [
    {
     "data": {
      "text/plain": [
       "['spelling',\n",
       " 'errors',\n",
       " 'in',\n",
       " 'something',\n",
       " 'whatever',\n",
       " 'unusual',\n",
       " 'mistakes',\n",
       " 'everywhere']"
      ]
     },
     "execution_count": 35,
     "metadata": {},
     "output_type": "execute_result"
    }
   ],
   "source": [
    "list(map(correct, tokens('Speling errurs in somethink. Whutever; unusuel misteakes everyware?')))"
   ]
  },
  {
   "cell_type": "code",
   "execution_count": 36,
   "id": "7a055d3e-017a-45cd-9029-36b5248f06c2",
   "metadata": {},
   "outputs": [],
   "source": [
    "def correct_text(text):\n",
    "    return re.sub('[a-zA-Z]+', correct_match, text)\n",
    "\n",
    "def correct_match(match):\n",
    "    word = match.group()\n",
    "    return case_of(word)(correct(word.lower()))\n",
    "\n",
    "def case_of(text):\n",
    "    return (str.upper if text.isupper() else\n",
    "            str.lower if text.islower() else\n",
    "            str.title if text.istitle() else\n",
    "            str)"
   ]
  },
  {
   "cell_type": "code",
   "execution_count": 37,
   "id": "e41a9398-fbd8-4daf-ae4a-2b1196d8c026",
   "metadata": {},
   "outputs": [
    {
     "data": {
      "text/plain": [
       "'fhgwdjksa'"
      ]
     },
     "execution_count": 37,
     "metadata": {},
     "output_type": "execute_result"
    }
   ],
   "source": [
    "str('fhgwdjksa')"
   ]
  },
  {
   "cell_type": "code",
   "execution_count": 38,
   "id": "8ac0bace-78be-41a5-9640-aef9092c442b",
   "metadata": {},
   "outputs": [
    {
     "data": {
      "text/plain": [
       "[<method 'upper' of 'str' objects>,\n",
       " <method 'lower' of 'str' objects>,\n",
       " <method 'title' of 'str' objects>,\n",
       " str]"
      ]
     },
     "execution_count": 38,
     "metadata": {},
     "output_type": "execute_result"
    }
   ],
   "source": [
    "list(map(case_of, ['UPPER', 'lower', 'Title', 'CamelCase']))"
   ]
  },
  {
   "cell_type": "code",
   "execution_count": 39,
   "id": "69326223-21a7-485c-a901-26b770a9a841",
   "metadata": {},
   "outputs": [
    {
     "data": {
      "text/plain": [
       "'Spelling Errors IN something. Whatever; unusual mistakes?'"
      ]
     },
     "execution_count": 39,
     "metadata": {},
     "output_type": "execute_result"
    }
   ],
   "source": [
    "correct_text('Speling Errurs IN somethink. Whutever; unusuel misteakes?')"
   ]
  },
  {
   "cell_type": "code",
   "execution_count": 40,
   "id": "ddcaacd1-9d40-42fb-a592-87906b5f2b7d",
   "metadata": {},
   "outputs": [
    {
     "data": {
      "text/plain": [
       "'Audience says: tumbler ...'"
      ]
     },
     "execution_count": 40,
     "metadata": {},
     "output_type": "execute_result"
    }
   ],
   "source": [
    "correct_text('Audiance sayzs: tumblr ...')"
   ]
  },
  {
   "cell_type": "code",
   "execution_count": 41,
   "id": "ae8882dd-5409-4f08-9d97-f8cac645e94b",
   "metadata": {},
   "outputs": [],
   "source": [
    "# I will calculate the probabilities of words using the function pdist, \n",
    "#which takes Counter (our bag of words) as input and returns a function that acts as a probability distribution on the set of all possible words. \n",
    "#In a probability distribution, the probability of each word is between 0 and 1, and adding the probabilities of all words gives 1.\n"
   ]
  },
  {
   "cell_type": "code",
   "execution_count": 44,
   "id": "5dc40650-5912-44ce-b0d5-151d77b1b845",
   "metadata": {},
   "outputs": [],
   "source": [
    "def pdist(counter):\n",
    "    N = sum(list(counter.values()))\n",
    "    return lambda x: counter[x]/N\n",
    "\n",
    "P = pdist(COUNTS)"
   ]
  },
  {
   "cell_type": "code",
   "execution_count": 45,
   "id": "3e8d4ae3-2a7a-48d6-8789-beb7e1e559b3",
   "metadata": {},
   "outputs": [
    {
     "name": "stdout",
     "output_type": "stream",
     "text": [
      "0.07240666434449033 the\n",
      "0.008842968103249388 is\n",
      "0.07240666434449033 the\n",
      "0.0008215075749693518 most\n",
      "0.0002596615352601365 common\n",
      "0.0002696137195383996 word\n",
      "0.019949605757790978 in\n",
      "0.00019090098933759167 english\n"
     ]
    }
   ],
   "source": [
    "for w in tokens('\"The\" is the most common word in English'):\n",
    "    print(P(w), w)"
   ]
  },
  {
   "cell_type": "code",
   "execution_count": 47,
   "id": "764c9727-3dfd-4555-8dd7-eb5d90632180",
   "metadata": {},
   "outputs": [],
   "source": [
    "def Pwords(words):\n",
    "    \"Probabilities of words, provided they are independent.\"\n",
    "    return product(P(w) for w in words)\n",
    "\n",
    "def product(nums):\n",
    "    \"Let's multiply the numbers.  (It's like `sum`, only with multiplication.)\"\n",
    "    result = 1\n",
    "    for x in nums:\n",
    "        result *= x\n",
    "    return result"
   ]
  },
  {
   "cell_type": "code",
   "execution_count": 48,
   "id": "42fba7e4-e9d1-46cd-9c32-a627ad807e91",
   "metadata": {},
   "outputs": [
    {
     "name": "stdout",
     "output_type": "stream",
     "text": [
      "2.983396332800731e-11 this is a test\n",
      "8.637472023018802e-16 this is a unusual test\n",
      "0.0 this is a neverbeforeseen test\n"
     ]
    }
   ],
   "source": [
    "tests = ['this is a test', \n",
    "         'this is a unusual test',\n",
    "         'this is a neverbeforeseen test']\n",
    "\n",
    "for test in tests:\n",
    "    print(Pwords(tokens(test)), test)"
   ]
  },
  {
   "cell_type": "code",
   "execution_count": 49,
   "id": "dcb03d6a-750c-4c3c-9f6b-bf055ad1b8a1",
   "metadata": {},
   "outputs": [],
   "source": [
    "# use memoization\n",
    "def memo(f):\n",
    "    cache = {}\n",
    "    def fmemo(*args):\n",
    "        if args not in cache:\n",
    "            cache[args] = f(*args)\n",
    "        return cache[args]\n",
    "    fmemo.cache = cache\n",
    "    return fmemo"
   ]
  },
  {
   "cell_type": "code",
   "execution_count": 50,
   "id": "3942359a-865a-41da-aa5c-839cc7da7297",
   "metadata": {},
   "outputs": [
    {
     "data": {
      "text/plain": [
       "18"
      ]
     },
     "execution_count": 50,
     "metadata": {},
     "output_type": "execute_result"
    }
   ],
   "source": [
    "max(len(w) for w in COUNTS)"
   ]
  },
  {
   "cell_type": "code",
   "execution_count": 51,
   "id": "15b95fb6-40a3-4cf1-b979-14b422d99a99",
   "metadata": {},
   "outputs": [],
   "source": [
    "def splits(text, start=0, L=20):\n",
    "    \"Вернуть список всех пар (a, b); start <= len(a) <= L.\"\n",
    "    return [(text[:i], text[i:]) \n",
    "            for i in range(start, min(len(text), L)+1)]"
   ]
  },
  {
   "cell_type": "code",
   "execution_count": 52,
   "id": "cc4c37c0-3b1d-4852-8ead-0704b33a043b",
   "metadata": {},
   "outputs": [
    {
     "name": "stdout",
     "output_type": "stream",
     "text": [
      "[('', 'word'), ('w', 'ord'), ('wo', 'rd'), ('wor', 'd'), ('word', '')]\n",
      "[('r', 'eallylongtext'), ('re', 'allylongtext'), ('rea', 'llylongtext'), ('real', 'lylongtext')]\n"
     ]
    }
   ],
   "source": [
    "print(splits('word'))\n",
    "print(splits('reallylongtext', 1, 4))"
   ]
  },
  {
   "cell_type": "code",
   "execution_count": 53,
   "id": "ceb74e4a-3b1d-4e5e-a677-5da8705a173a",
   "metadata": {},
   "outputs": [],
   "source": [
    "@memo\n",
    "def segment(text):\n",
    "    \"Return a list of words that is the most likely segmentation of our text.\"\n",
    "    if not text: \n",
    "        return []\n",
    "    else:\n",
    "        candidates = ([first] + segment(rest) \n",
    "                      for (first, rest) in splits(text, 1))\n",
    "        return max(candidates, key=Pwords)"
   ]
  },
  {
   "cell_type": "code",
   "execution_count": 54,
   "id": "7f2baaff-74f2-40e0-a7b4-4eb6701b395e",
   "metadata": {},
   "outputs": [
    {
     "name": "stdout",
     "output_type": "stream",
     "text": [
      "fib(40) = 102334155\n",
      "0.0005763999652117491\n"
     ]
    }
   ],
   "source": [
    "import time\n",
    "@memo\n",
    "def fib(n):\n",
    "    if n < 2:\n",
    "        return n\n",
    "    return fib(n-2) + fib(n-1)\n",
    "\n",
    "# Какое число мы хотим посчитать\n",
    "x = 40\n",
    "\n",
    "t1 = time.perf_counter()\n",
    "print(f'fib({x}) =', fib(x))\n",
    "print(time.perf_counter() - t1)"
   ]
  },
  {
   "cell_type": "code",
   "execution_count": 55,
   "id": "f199afce-2066-41bc-804e-8e33bd37040d",
   "metadata": {},
   "outputs": [
    {
     "data": {
      "text/plain": [
       "['choose', 'spain']"
      ]
     },
     "execution_count": 55,
     "metadata": {},
     "output_type": "execute_result"
    }
   ],
   "source": [
    "segment('choosespain')"
   ]
  },
  {
   "cell_type": "code",
   "execution_count": 56,
   "id": "5dc765ee-0896-4a09-8390-4ccd9af94dce",
   "metadata": {},
   "outputs": [
    {
     "data": {
      "text/plain": [
       "['speed', 'of', 'art']"
      ]
     },
     "execution_count": 56,
     "metadata": {},
     "output_type": "execute_result"
    }
   ],
   "source": [
    "segment('speedofart')"
   ]
  },
  {
   "cell_type": "code",
   "execution_count": 57,
   "id": "ac46c743-3c0d-4425-9071-89f6f3f8f2ec",
   "metadata": {},
   "outputs": [],
   "source": [
    "decl = ('wheninthecourseofhumaneventsitbecomesnecessaryforpeople' +\n",
    "        'todissolvethepoliticalbandswhichhaveconnectedthemwithoneanother' +\n",
    "        'andtoassumeamongthepowersoftheearththeseparateandequalstation' +\n",
    "        'towhichthelawsofnatureandofnaturesgodentitlethem')"
   ]
  },
  {
   "cell_type": "code",
   "execution_count": 58,
   "id": "8b64a120-0b76-4227-bdff-80c86a54ed37",
   "metadata": {},
   "outputs": [
    {
     "name": "stdout",
     "output_type": "stream",
     "text": [
      "['when', 'in', 'the', 'course', 'of', 'human', 'events', 'it', 'becomes', 'necessary', 'for', 'people', 'to', 'dissolve', 'the', 'political', 'bands', 'which', 'have', 'connected', 'them', 'with', 'one', 'another', 'and', 'to', 'assume', 'among', 'the', 'powers', 'of', 'the', 'earth', 'the', 'separate', 'and', 'equal', 'station', 'to', 'which', 'the', 'laws', 'of', 'nature', 'and', 'of', 'natures', 'god', 'entitle', 'them']\n"
     ]
    }
   ],
   "source": [
    "print(segment(decl))"
   ]
  },
  {
   "cell_type": "code",
   "execution_count": 59,
   "id": "38a6904e-bd06-40a1-bb41-e49b40547231",
   "metadata": {},
   "outputs": [
    {
     "data": {
      "text/plain": [
       "3.6043381425711275e-141"
      ]
     },
     "execution_count": 59,
     "metadata": {},
     "output_type": "execute_result"
    }
   ],
   "source": [
    "Pwords(segment(decl))"
   ]
  },
  {
   "cell_type": "code",
   "execution_count": 60,
   "id": "2f2091e7-9b24-4334-8885-4c6aed17cb90",
   "metadata": {},
   "outputs": [
    {
     "data": {
      "text/plain": [
       "1.2991253445993085e-281"
      ]
     },
     "execution_count": 60,
     "metadata": {},
     "output_type": "execute_result"
    }
   ],
   "source": [
    "Pwords(segment(decl * 2))"
   ]
  },
  {
   "cell_type": "code",
   "execution_count": 61,
   "id": "db119fa5-77c4-47a6-a958-2d65378a98bc",
   "metadata": {},
   "outputs": [
    {
     "data": {
      "text/plain": [
       "0.0"
      ]
     },
     "execution_count": 61,
     "metadata": {},
     "output_type": "execute_result"
    }
   ],
   "source": [
    "Pwords(segment(decl * 3))"
   ]
  },
  {
   "cell_type": "code",
   "execution_count": 62,
   "id": "8b6511e9-fd0d-47aa-8ac0-a5543a923f10",
   "metadata": {},
   "outputs": [
    {
     "data": {
      "text/plain": [
       "['small', 'and', 'insignificant']"
      ]
     },
     "execution_count": 62,
     "metadata": {},
     "output_type": "execute_result"
    }
   ],
   "source": [
    "segment('smallandinsignificant')"
   ]
  },
  {
   "cell_type": "code",
   "execution_count": 63,
   "id": "3a59b2b6-f2b3-481b-88fb-8d70f1444219",
   "metadata": {},
   "outputs": [
    {
     "data": {
      "text/plain": [
       "['large', 'and', 'insignificant']"
      ]
     },
     "execution_count": 63,
     "metadata": {},
     "output_type": "execute_result"
    }
   ],
   "source": [
    "segment('largeandinsignificant')"
   ]
  },
  {
   "cell_type": "code",
   "execution_count": 64,
   "id": "29c07303-7af5-4cb8-82d8-9bb3ece8bb0f",
   "metadata": {},
   "outputs": [
    {
     "name": "stdout",
     "output_type": "stream",
     "text": [
      "4.111418791681202e-10\n",
      "1.0662753919897733e-11\n"
     ]
    }
   ],
   "source": [
    "print(Pwords(['large', 'and', 'insignificant']))\n",
    "print(Pwords(['large', 'and', 'in', 'significant']))"
   ]
  },
  {
   "cell_type": "code",
   "execution_count": 65,
   "id": "856c3007-31f7-48ef-9a40-fa19133a2bb7",
   "metadata": {},
   "outputs": [],
   "source": [
    "def load_counts(text, sep='\\t'):\n",
    "    \"\"\"Returns the Counter obtained from the key-value pairs in each line of the file.\"\"\"\"\"\n",
    "    C = Counter()\n",
    "    for i in [l.split('\\t') for l in text.split('\\n')][:-1]:\n",
    "        key, count = i\n",
    "        C[key] = int(count)\n",
    "    return C"
   ]
  },
  {
   "cell_type": "code",
   "execution_count": 66,
   "id": "473f4ff2-5e97-4a5e-ad4f-59cd550c35df",
   "metadata": {},
   "outputs": [],
   "source": [
    "COUNTS1 = load_counts(requests.get('https://www.norvig.com/ngrams/count_1w.txt').text)\n",
    "COUNTS2 = load_counts(requests.get('https://www.norvig.com/ngrams/count_2w.txt').text)\n",
    "\n",
    "P1w = pdist(COUNTS1)\n",
    "P2w = pdist(COUNTS2)"
   ]
  },
  {
   "cell_type": "code",
   "execution_count": 67,
   "id": "68a4e177-f9d8-4e0b-82c9-2ca874279905",
   "metadata": {},
   "outputs": [
    {
     "name": "stdout",
     "output_type": "stream",
     "text": [
      "333333 588.124220187\n",
      "286358 225.955251755\n"
     ]
    }
   ],
   "source": [
    "print(len(COUNTS1), sum(list(COUNTS1.values()))/1e9)\n",
    "print(len(COUNTS2), sum(list(COUNTS2.values()))/1e9)"
   ]
  },
  {
   "cell_type": "code",
   "execution_count": 68,
   "id": "fa921c1c-9882-452e-991c-1bd60f88dbea",
   "metadata": {},
   "outputs": [
    {
     "data": {
      "text/plain": [
       "[('of the', 2766332391),\n",
       " ('in the', 1628795324),\n",
       " ('to the', 1139248999),\n",
       " ('on the', 800328815),\n",
       " ('for the', 692874802),\n",
       " ('and the', 629726893),\n",
       " ('to be', 505148997),\n",
       " ('is a', 476718990),\n",
       " ('with the', 461331348),\n",
       " ('from the', 428303219),\n",
       " ('by the', 417106045),\n",
       " ('at the', 416201497),\n",
       " ('of a', 387060526),\n",
       " ('in a', 364730082),\n",
       " ('will be', 356175009),\n",
       " ('that the', 333393891),\n",
       " ('do not', 326267941),\n",
       " ('is the', 306482559),\n",
       " ('to a', 279146624),\n",
       " ('is not', 276753375),\n",
       " ('for a', 274112498),\n",
       " ('with a', 271525283),\n",
       " ('as a', 270401798),\n",
       " ('<S> and', 261891475),\n",
       " ('of this', 258707741),\n",
       " ('<S> the', 258483382),\n",
       " ('it is', 245002494),\n",
       " ('can be', 230215143),\n",
       " ('If you', 210252670),\n",
       " ('has been', 196769958)]"
      ]
     },
     "execution_count": 68,
     "metadata": {},
     "output_type": "execute_result"
    }
   ],
   "source": [
    "COUNTS2.most_common(30)"
   ]
  },
  {
   "cell_type": "code",
   "execution_count": 81,
   "id": "e9fe2beb-e089-4cb5-91ab-0650a9e8fa8c",
   "metadata": {},
   "outputs": [],
   "source": [
    "def Pwords2(words, prev='<S>'):\n",
    "    \"Probability of word sequence using bigram model(given a previous word).\"\n",
    "    return prod(cPword(w, (prev if (i == 0) else words[i-1]) )\n",
    "                   for (i, w) in enumerate(words))\n",
    "\n",
    "def Pwords(words):\n",
    "    \"Probaabilities of words given their independence.\"\n",
    "    return prod(P1w(w) for w in words)\n",
    "\n",
    "def cPword(word, prev):\n",
    "    \"The conditional probability of a word given a prior.\"\n",
    "    bigram = prev + ' ' + word\n",
    "    if P2w(bigram) > 0 and P1w(prev) > 0:\n",
    "        return P2w(bigram) / P1w(prev)\n",
    "    else: \n",
    "        return P1w(word) / 2"
   ]
  },
  {
   "cell_type": "code",
   "execution_count": 82,
   "id": "044b2673-4adb-43bf-b00e-64c39bd59eee",
   "metadata": {},
   "outputs": [
    {
     "name": "stdout",
     "output_type": "stream",
     "text": [
      "<generator object Pwords.<locals>.<genexpr> at 0x00000233CEE41A80>\n",
      "<generator object Pwords2.<locals>.<genexpr> at 0x00000233CEE2C370>\n",
      "<generator object Pwords2.<locals>.<genexpr> at 0x00000233CEE2C370>\n"
     ]
    }
   ],
   "source": [
    "print(Pwords(tokens('this is a test')))\n",
    "print(Pwords2(tokens('this is a test')))\n",
    "print(Pwords2(tokens('is test a this')))"
   ]
  },
  {
   "cell_type": "code",
   "execution_count": 86,
   "id": "521615ad-be98-400e-91f6-e2436946e3cd",
   "metadata": {},
   "outputs": [],
   "source": [
    "@memo \n",
    "def segment2(text, prev='<S>'): \n",
    "    if not text: \n",
    "        return []\n",
    "    else:\n",
    "        candidates = ([first] + segment2(rest, first) \n",
    "                      for (first, rest) in splits(text, 1))\n",
    "        return max(candidates, key=lambda words: Pwords2(words, prev))"
   ]
  },
  {
   "cell_type": "code",
   "execution_count": 88,
   "id": "1a296cf1-9e83-4819-a829-f93c2a1044b1",
   "metadata": {},
   "outputs": [],
   "source": [
    "def test_segmenter(segmenter, tests):\n",
    "    \"Оценка сегментатора на тестовых данных; вывести на печать ошибки; вернуть долю верно разбитого.\"\n",
    "    return sum([test_one_segment(segmenter, test) \n",
    "               for test in tests]), len(tests)\n",
    "\n",
    "def test_one_segment(segmenter, test):\n",
    "    words = tokens(test)\n",
    "    result = segmenter(''.join(words))\n",
    "    correct = (result == words)\n",
    "    if not correct:\n",
    "        print('expected', words)\n",
    "        print('got     ', result) \n",
    "    return correct\n",
    "\n",
    "proverbs = (\"\"\"A little knowledge is a dangerous thing\n",
    "  A man who is his own lawyer has a fool for his client\n",
    "  All work and no play makes Jack a dull boy\n",
    "  Better to remain silent and be thought a fool that to speak and remove all doubt;\n",
    "  Do unto others as you would have them do to you\n",
    "  Early to bed and early to rise, makes a man healthy, wealthy and wise\n",
    "  Fools rush in where angels fear to tread\n",
    "  Genius is one percent inspiration, ninety-nine percent perspiration\n",
    "  If you lie down with dogs, you will get up with fleas\n",
    "  Lightning never strikes twice in the same place\n",
    "  Power corrupts; absolute power corrupts absolutely\n",
    "  Here today, gone tomorrow\n",
    "  See no evil, hear no evil, speak no evil\n",
    "  Sticks and stones may break my bones, but words will never hurt me\n",
    "  Take care of the pence and the pounds will take care of themselves\n",
    "  Take care of the sense and the sounds will take care of themselves\n",
    "  The bigger they are, the harder they fall\n",
    "  The grass is always greener on the other side of the fence\n",
    "  The more things change, the more they stay the same\n",
    "  Those who do not learn from history are doomed to repeat it\"\"\"\n",
    "  .splitlines())"
   ]
  },
  {
   "cell_type": "code",
   "execution_count": 91,
   "id": "948c794d-331b-43e2-8b92-d04aea8a2739",
   "metadata": {},
   "outputs": [
    {
     "name": "stdout",
     "output_type": "stream",
     "text": [
      "<generator object Pwords.<locals>.<genexpr> at 0x00000233CEE43300> this is a test\n",
      "<generator object Pwords.<locals>.<genexpr> at 0x00000233CEE43300> this is a unusual test\n",
      "<generator object Pwords.<locals>.<genexpr> at 0x00000233CEE43300> this is a nongovernmental test\n",
      "<generator object Pwords.<locals>.<genexpr> at 0x00000233CEE43300> this is a neverbeforeseen test\n",
      "<generator object Pwords.<locals>.<genexpr> at 0x00000233CEE43300> this is a zqbhjhsyefvvjqc test\n"
     ]
    }
   ],
   "source": [
    "tests = ['this is a test', \n",
    "         'this is a unusual test',\n",
    "         'this is a nongovernmental test',\n",
    "         'this is a neverbeforeseen test',\n",
    "         'this is a zqbhjhsyefvvjqc test']\n",
    "\n",
    "for test in tests:\n",
    "    print(Pwords(tokens(test)), test)"
   ]
  },
  {
   "cell_type": "code",
   "execution_count": 94,
   "id": "38979655-f580-4ce8-b45b-4b221e95c7ca",
   "metadata": {},
   "outputs": [],
   "source": [
    "#using Laplace's smoothing formula\n",
    "def pdist_additive_smoothed(counter, c=1):\n",
    "    N = sum(list(counter.values()))       \n",
    "    Nplus = N + c * (len(counter) + 1) \n",
    "    return lambda word: (counter[word] + c) / Nplus \n",
    "\n",
    "P1w = pdist_additive_smoothed(COUNTS1)"
   ]
  },
  {
   "cell_type": "code",
   "execution_count": 93,
   "id": "431cf2c2-9c68-433a-a9e1-e5712522953e",
   "metadata": {},
   "outputs": [
    {
     "data": {
      "text/plain": [
       "1.7003201005861308e-12"
      ]
     },
     "execution_count": 93,
     "metadata": {},
     "output_type": "execute_result"
    }
   ],
   "source": [
    "P1w('neverbeforeseen')"
   ]
  },
  {
   "cell_type": "code",
   "execution_count": 96,
   "id": "46ec5633-6354-47d3-a082-825bafc4ce63",
   "metadata": {},
   "outputs": [
    {
     "data": {
      "text/plain": [
       "[(7, 1357),\n",
       " (8, 1356),\n",
       " (9, 1175),\n",
       " (6, 1113),\n",
       " (10, 938),\n",
       " (5, 747),\n",
       " (11, 627),\n",
       " (12, 398),\n",
       " (4, 368),\n",
       " (13, 215),\n",
       " (3, 159),\n",
       " (14, 112),\n",
       " (2, 51),\n",
       " (15, 37),\n",
       " (16, 10),\n",
       " (17, 7)]"
      ]
     },
     "execution_count": 96,
     "metadata": {},
     "output_type": "execute_result"
    }
   ],
   "source": [
    "singletons = (w for w in COUNTS if COUNTS[w] == 1)\n",
    "lengths = list(map(len, singletons))\n",
    "Counter(lengths).most_common()"
   ]
  },
  {
   "cell_type": "code",
   "execution_count": 97,
   "id": "0cab4211-c69b-4d15-a588-89f0e9c48f29",
   "metadata": {},
   "outputs": [
    {
     "data": {
      "image/png": "[encoded data removed]",
      "text/plain": [
       "<Figure size 640x480 with 1 Axes>"
      ]
     },
     "metadata": {},
     "output_type": "display_data"
    }
   ],
   "source": [
    "hist(lengths, bins=len(set(lengths)));"
   ]
  },
  {
   "cell_type": "code",
   "execution_count": 100,
   "id": "ea57058d-4706-4106-8902-8f819ccc5ebe",
   "metadata": {},
   "outputs": [],
   "source": [
    "def pdist_good_turing_hack(counter, onecounter, base=1/26., prior=1e-8):\n",
    "    \"\"\"The probability of a word given the data from onecounter.\n",
    "    For unknown words, we look at words encountered once from onecounter, \n",
    "    we choose the probability based on the length.\n",
    "    Let's use the idea of the Hood-Turing method (we won't fully implement it here).\n",
    "    prior is an additive factor that will make unknown words less likely.\n",
    "    base is how much we reduce the probability for a word length greater than the maximum.\"\"\"\n",
    "    N = sum(list(counter.values()))\n",
    "    N2 = sum(list(onecounter.values()))\n",
    "    lengths = list(map(len, [w for w in onecounter if onecounter[w] == 1]))\n",
    "    ones = Counter(lengths)\n",
    "    longest = max(ones)\n",
    "    return (lambda word: \n",
    "            counter[word] / N if (word in counter) \n",
    "            else prior * (ones[len(word)] / N2 or \n",
    "                          ones[longest] / N2 * base ** (len(word)-longest)))\n",
    "P1w = pdist_good_turing_hack(COUNTS1, COUNTS)"
   ]
  },
  {
   "cell_type": "code",
   "execution_count": 104,
   "id": "2aca0854-5e88-4e67-bf31-6ee288eeea83",
   "metadata": {},
   "outputs": [],
   "source": [
    "#segment.cache.clear()\n",
    "#segment('thisisatestofsegmentationofaverylongsequenceofwords')"
   ]
  },
  {
   "cell_type": "code",
   "execution_count": 105,
   "id": "50c9bc07-e6ab-4d4d-a96c-12a88cb60f9c",
   "metadata": {},
   "outputs": [],
   "source": [
    "from metaphone import doublemetaphone"
   ]
  },
  {
   "cell_type": "code",
   "execution_count": 102,
   "id": "e71b0482-c6da-4430-acf8-33633c550ab4",
   "metadata": {},
   "outputs": [
    {
     "name": "stdout",
     "output_type": "stream",
     "text": [
      "Defaulting to user installation because normal site-packages is not writeable\n",
      "Collecting metaphone\n",
      "  Downloading Metaphone-0.6.tar.gz (14 kB)\n",
      "  Preparing metadata (setup.py): started\n",
      "  Preparing metadata (setup.py): finished with status 'done'\n",
      "Building wheels for collected packages: metaphone\n",
      "  Building wheel for metaphone (setup.py): started\n",
      "  Building wheel for metaphone (setup.py): finished with status 'done'\n",
      "  Created wheel for metaphone: filename=Metaphone-0.6-py3-none-any.whl size=13945 sha256=a989a1a5bdb2613cf028c8c87d26fe84085ec242ffc0f469b7b29bd7ec05b7bd\n",
      "  Stored in directory: c:\\users\\александр\\appdata\\local\\pip\\cache\\wheels\\08\\cb\\f9\\3ce2de290cd1b6f10dd8ed4795f3dec4a835b02d2514f9b9d3\n",
      "Successfully built metaphone\n",
      "Installing collected packages: metaphone\n",
      "Successfully installed metaphone-0.6\n"
     ]
    }
   ],
   "source": [
    "!pip install metaphone"
   ]
  },
  {
   "cell_type": "code",
   "execution_count": 106,
   "id": "b260350a-c972-43dd-a91b-cee5ab7f0cca",
   "metadata": {},
   "outputs": [
    {
     "name": "stdout",
     "output_type": "stream",
     "text": [
      "('KN0RKRS', 'KNTRKRS')\n",
      "('KN0RKRS', 'KNTRKRS')\n"
     ]
    }
   ],
   "source": [
    "print(doublemetaphone(\"Günther Graß\"))\n",
    "print(doublemetaphone(\"Günther Grass\"))"
   ]
  },
  {
   "cell_type": "code",
   "execution_count": 107,
   "id": "a62956ca-21a4-4265-87dd-ae7268b1efd8",
   "metadata": {},
   "outputs": [
    {
     "name": "stdout",
     "output_type": "stream",
     "text": [
      "('XRTSNKR', 'XFRTSNKR')\n",
      "('XRTSNJR', 'XRTSNKR')\n"
     ]
    }
   ],
   "source": [
    "print(doublemetaphone(\"schwartzenegger\"))\n",
    "print(doublemetaphone(\"shwortsineger\"))"
   ]
  },
  {
   "cell_type": "code",
   "execution_count": 108,
   "id": "4a17c048-a50e-4080-95ee-ff6783f1b838",
   "metadata": {},
   "outputs": [
    {
     "name": "stdout",
     "output_type": "stream",
     "text": [
      "('SRKS', '')\n",
      "('SRKS', '')\n"
     ]
    }
   ],
   "source": [
    "print(doublemetaphone(\"xerox\"))\n",
    "print(doublemetaphone(\"zeeerux\"))"
   ]
  },
  {
   "cell_type": "code",
   "execution_count": null,
   "id": "1da39ff0-bd5c-42a8-8a9b-2aea97baa5d1",
   "metadata": {},
   "outputs": [],
   "source": []
  }
 ],
 "metadata": {
  "kernelspec": {
   "display_name": "Python 3 (ipykernel)",
   "language": "python",
   "name": "python3"
  },
  "language_info": {
   "codemirror_mode": {
    "name": "ipython",
    "version": 3
   },
   "file_extension": ".py",
   "mimetype": "text/x-python",
   "name": "python",
   "nbconvert_exporter": "python",
   "pygments_lexer": "ipython3",
   "version": "3.11.7"
  }
 },
 "nbformat": 4,
 "nbformat_minor": 5
}
